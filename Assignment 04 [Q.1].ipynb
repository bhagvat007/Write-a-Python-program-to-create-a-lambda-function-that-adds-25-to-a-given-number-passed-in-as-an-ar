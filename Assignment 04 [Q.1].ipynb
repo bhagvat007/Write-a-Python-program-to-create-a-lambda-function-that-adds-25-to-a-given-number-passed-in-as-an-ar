{
 "cells": [
  {
   "cell_type": "markdown",
   "id": "adb23068",
   "metadata": {},
   "source": [
    "# Q.1 Write a Python program to create a lambda function that adds 25 to a given number passed in as an argument."
   ]
  },
  {
   "cell_type": "code",
   "execution_count": 1,
   "id": "57c912f2",
   "metadata": {},
   "outputs": [],
   "source": [
    "r = lambda a : a + 25"
   ]
  },
  {
   "cell_type": "code",
   "execution_count": 2,
   "id": "528a104c",
   "metadata": {},
   "outputs": [
    {
     "data": {
      "text/plain": [
       "35"
      ]
     },
     "execution_count": 2,
     "metadata": {},
     "output_type": "execute_result"
    }
   ],
   "source": [
    "r(10)"
   ]
  },
  {
   "cell_type": "code",
   "execution_count": null,
   "id": "42377d84",
   "metadata": {},
   "outputs": [],
   "source": []
  }
 ],
 "metadata": {
  "kernelspec": {
   "display_name": "Python 3 (ipykernel)",
   "language": "python",
   "name": "python3"
  },
  "language_info": {
   "codemirror_mode": {
    "name": "ipython",
    "version": 3
   },
   "file_extension": ".py",
   "mimetype": "text/x-python",
   "name": "python",
   "nbconvert_exporter": "python",
   "pygments_lexer": "ipython3",
   "version": "3.10.0"
  }
 },
 "nbformat": 4,
 "nbformat_minor": 5
}
